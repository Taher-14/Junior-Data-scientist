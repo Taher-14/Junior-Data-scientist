{
 "cells": [
  {
   "cell_type": "code",
   "execution_count": 3,
   "id": "bc699aef",
   "metadata": {},
   "outputs": [
    {
     "name": "stdout",
     "output_type": "stream",
     "text": [
      "[1, 'Hello', [1, 2, 3], True]\n"
     ]
    }
   ],
   "source": [
    "#create a list\n",
    "Taher=[1,\"Hello\",[1,2,3],True]\n",
    "print(Taher)"
   ]
  },
  {
   "cell_type": "code",
   "execution_count": 4,
   "id": "86a9db42",
   "metadata": {},
   "outputs": [
    {
     "data": {
      "text/plain": [
       "'Hello'"
      ]
     },
     "execution_count": 4,
     "metadata": {},
     "output_type": "execute_result"
    }
   ],
   "source": [
    "#slicing\n",
    "Taher[1]\n"
   ]
  },
  {
   "cell_type": "code",
   "execution_count": 5,
   "id": "47a1baa0",
   "metadata": {},
   "outputs": [
    {
     "data": {
      "text/plain": [
       "['Hello', [1, 2, 3], True]"
      ]
     },
     "execution_count": 5,
     "metadata": {},
     "output_type": "execute_result"
    }
   ],
   "source": [
    "#slicing\n",
    "Taher[1:4]"
   ]
  },
  {
   "cell_type": "code",
   "execution_count": 6,
   "id": "6939ae6d",
   "metadata": {},
   "outputs": [
    {
     "name": "stdout",
     "output_type": "stream",
     "text": [
      "[1, 'a', 2, 1, 'd']\n"
     ]
    }
   ],
   "source": [
    "#concatonate\n",
    "A=[1,\"a\"]\n",
    "B=[2,1,\"d\"]\n",
    "print(A+B)"
   ]
  },
  {
   "cell_type": "code",
   "execution_count": 8,
   "id": "7a369cef",
   "metadata": {},
   "outputs": [
    {
     "data": {
      "text/plain": [
       "'ABCD'"
      ]
     },
     "execution_count": 8,
     "metadata": {},
     "output_type": "execute_result"
    }
   ],
   "source": [
    "#slicing\n",
    "letter=\"ABCDEFGHIJK\"\n",
    "letter[0:4]\n"
   ]
  },
  {
   "cell_type": "code",
   "execution_count": 14,
   "id": "0a1be17d",
   "metadata": {},
   "outputs": [
    {
     "name": "stdout",
     "output_type": "stream",
     "text": [
      "UPPERCASE\n"
     ]
    }
   ],
   "source": [
    "#Turns small lettersto capital ones\n",
    "Tito=\"uppercase\"\n",
    "Taher=Tito.upper()\n",
    "print (Taher)\n"
   ]
  },
  {
   "cell_type": "code",
   "execution_count": 16,
   "id": "c1f00bf8",
   "metadata": {},
   "outputs": [
    {
     "data": {
      "text/plain": [
       "float"
      ]
     },
     "execution_count": 16,
     "metadata": {},
     "output_type": "execute_result"
    }
   ],
   "source": [
    "#What's the data type\n",
    "type(6/2)"
   ]
  },
  {
   "cell_type": "code",
   "execution_count": 17,
   "id": "c05f19ec",
   "metadata": {},
   "outputs": [
    {
     "data": {
      "text/plain": [
       "int"
      ]
     },
     "execution_count": 17,
     "metadata": {},
     "output_type": "execute_result"
    }
   ],
   "source": [
    "#What's the data type(// turned data type to integer)\n",
    "\n",
    "type(6//2)"
   ]
  },
  {
   "cell_type": "code",
   "execution_count": 19,
   "id": "15d616a8",
   "metadata": {},
   "outputs": [
    {
     "name": "stdout",
     "output_type": "stream",
     "text": [
      "2.6666666666666665\n"
     ]
    }
   ],
   "source": [
    "#Expressions\n",
    "Minutes_hours=160/60\n",
    "print(Minutes_hours)"
   ]
  },
  {
   "cell_type": "code",
   "execution_count": 20,
   "id": "9aa66544",
   "metadata": {},
   "outputs": [
    {
     "name": "stdout",
     "output_type": "stream",
     "text": [
      "3.9.7 (default, Sep 16 2021, 16:59:28) [MSC v.1916 64 bit (AMD64)]\n"
     ]
    }
   ],
   "source": [
    "#What's the python version we are using\n",
    "import sys\n",
    "print(sys.version)"
   ]
  },
  {
   "cell_type": "code",
   "execution_count": 22,
   "id": "d2b5668a",
   "metadata": {},
   "outputs": [
    {
     "data": {
      "text/plain": [
       "[1, 6, 7, 4]"
      ]
     },
     "execution_count": 22,
     "metadata": {},
     "output_type": "execute_result"
    }
   ],
   "source": [
    "#stride value of 4\n",
    "Astra=[1,2,3,5,6,4,8,9,7,6,1,6,4]\n",
    "Astra[::4]"
   ]
  },
  {
   "cell_type": "code",
   "execution_count": 23,
   "id": "c2ff018d",
   "metadata": {},
   "outputs": [
    {
     "data": {
      "text/plain": [
       "'ABC'"
      ]
     },
     "execution_count": 23,
     "metadata": {},
     "output_type": "execute_result"
    }
   ],
   "source": [
    "#slicing\n",
    "d = \"ABCDEFG\"\n",
    "d[0:3]"
   ]
  },
  {
   "cell_type": "code",
   "execution_count": 24,
   "id": "f307ac21",
   "metadata": {},
   "outputs": [
    {
     "data": {
      "text/plain": [
       "'correct'"
      ]
     },
     "execution_count": 24,
     "metadata": {},
     "output_type": "execute_result"
    }
   ],
   "source": [
    "#stride value of 2\n",
    "e = 'clocrkr1e1c1t'\n",
    "e[::2]"
   ]
  },
  {
   "cell_type": "code",
   "execution_count": 29,
   "id": "d3e940d0",
   "metadata": {},
   "outputs": [
    {
     "name": "stdout",
     "output_type": "stream",
     "text": [
      "\\\n"
     ]
    }
   ],
   "source": [
    "print(\"\\\\\")"
   ]
  },
  {
   "cell_type": "code",
   "execution_count": 31,
   "id": "822d5dcb",
   "metadata": {},
   "outputs": [
    {
     "name": "stdout",
     "output_type": "stream",
     "text": [
      "YOU ARE WRONG\n"
     ]
    }
   ],
   "source": [
    "#uppercase method\n",
    "f = \"You are wrong\"\n",
    "T=f.upper()\n",
    "print(T)\n"
   ]
  },
  {
   "cell_type": "code",
   "execution_count": 35,
   "id": "89feec87",
   "metadata": {},
   "outputs": [
    {
     "data": {
      "text/plain": [
       "95"
      ]
     },
     "execution_count": 35,
     "metadata": {},
     "output_type": "execute_result"
    }
   ],
   "source": [
    "#find method:find first index of (snow)\n",
    "g = \"Mary had a little lamb Little lamb, little lamb Mary had a little lamb \\\n",
    "Its fleece was white as snow And everywhere that Mary went Mary went, Mary went \\\n",
    "Everywhere that Mary went The lamb was sure to go\"\n",
    "g.find(\"snow\")"
   ]
  },
  {
   "cell_type": "code",
   "execution_count": 37,
   "id": "cadde458",
   "metadata": {},
   "outputs": [
    {
     "data": {
      "text/plain": [
       "'Bob had a little lamb Little lamb, little lamb Bob had a little lamb Its fleece was white as snow And everywhere that Bob went Bob went, Bob went Everywhere that Bob went The lamb was sure to go'"
      ]
     },
     "execution_count": 37,
     "metadata": {},
     "output_type": "execute_result"
    }
   ],
   "source": [
    "#Replace method\n",
    "g.replace(\"Mary\",\"Bob\")"
   ]
  },
  {
   "cell_type": "code",
   "execution_count": null,
   "id": "720ca014",
   "metadata": {},
   "outputs": [],
   "source": []
  }
 ],
 "metadata": {
  "kernelspec": {
   "display_name": "Python 3 (ipykernel)",
   "language": "python",
   "name": "python3"
  },
  "language_info": {
   "codemirror_mode": {
    "name": "ipython",
    "version": 3
   },
   "file_extension": ".py",
   "mimetype": "text/x-python",
   "name": "python",
   "nbconvert_exporter": "python",
   "pygments_lexer": "ipython3",
   "version": "3.9.7"
  }
 },
 "nbformat": 4,
 "nbformat_minor": 5
}
